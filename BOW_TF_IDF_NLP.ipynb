{
  "nbformat": 4,
  "nbformat_minor": 0,
  "metadata": {
    "colab": {
      "provenance": []
    },
    "kernelspec": {
      "name": "python3",
      "display_name": "Python 3"
    },
    "language_info": {
      "name": "python"
    }
  },
  "cells": [
    {
      "cell_type": "markdown",
      "source": [
        "# BOW"
      ],
      "metadata": {
        "id": "8JIo98W65A4p"
      }
    },
    {
      "cell_type": "markdown",
      "source": [
        "* Python row implemntation"
      ],
      "metadata": {
        "id": "WAx6aHFMxahM"
      }
    },
    {
      "cell_type": "code",
      "execution_count": 6,
      "metadata": {
        "colab": {
          "base_uri": "https://localhost:8080/"
        },
        "id": "DAHjJq1jAmDR",
        "outputId": "dd38081c-0980-4224-f756-7fc0671b8f7b"
      },
      "outputs": [
        {
          "output_type": "stream",
          "name": "stdout",
          "text": [
            "Vocab:  ['an', 'and', 'be', 'engineer', 'enjoy', 'i', 'lol', 'love', 'mathimatics', 'nlp', 'playing', 'ps,', 'to', 'want']\n",
            "BOW Matrix: [[0, 0, 0, 0, 0, 1, 0, 1, 0, 1, 0, 0, 0, 0], [1, 0, 1, 1, 0, 1, 0, 0, 0, 1, 0, 0, 1, 1], [0, 0, 0, 0, 1, 1, 0, 0, 1, 0, 0, 0, 0, 0], [0, 1, 0, 0, 0, 0, 1, 0, 0, 0, 1, 1, 0, 0]] \n"
          ]
        }
      ],
      "source": [
        "from collections import Counter\n",
        "doc = [\"I love NLP\", \"I want to be an NLP Engineer\", \"I enjoy mathimatics\", \"Playing PS, and LOL\"]\n",
        "vocabulary = set (word for sent in doc for word in sent.lower().split())\n",
        "\n",
        "vocabulary = sorted(vocabulary) #sorted unique word\n",
        "\n",
        "bow_matrix = [] # list to save our freq\n",
        "\n",
        "for sent in doc:\n",
        "  word_count = Counter(sent.lower().split())  #count freq of each word\n",
        "  bow_vector = [word_count.get(word, 0) for word in vocabulary]  #save my freq with word\n",
        "  bow_matrix.append(bow_vector)\n",
        "\n",
        "\n",
        "print (f\"Vocab:  {vocabulary}\")\n",
        "print (f\"BOW Matrix: {bow_matrix} \")\n"
      ]
    },
    {
      "cell_type": "code",
      "source": [],
      "metadata": {
        "id": "1JX605q71uW6"
      },
      "execution_count": null,
      "outputs": []
    },
    {
      "cell_type": "markdown",
      "source": [
        "* Using Pandas"
      ],
      "metadata": {
        "id": "y50sGvWRxUDX"
      }
    },
    {
      "cell_type": "code",
      "source": [
        "import pandas as pd\n",
        "documents = [\"I love NLP\", \"I want to be an NLP Engineer\", \"I enjoy mathimatics\", \"Playing PS, and LOL\"]\n",
        "\n",
        "vocabulary = set (word for sent in documents for word in sent.lower().split())\n",
        "\n",
        "vocabulary = sorted(vocabulary) #sorted unique word\n",
        "\n",
        "bow_data = [] # list to save our freq\n",
        "\n",
        "for doc in documents:\n",
        "  word_counter = Counter(doc.lower().split())\n",
        "  bow_data.append({word: word_counter.get(word, 0) for word in vocabulary})\n",
        "bow_df = pd.DataFrame(bow_data, columns=vocabulary)\n",
        "print (bow_df)"
      ],
      "metadata": {
        "colab": {
          "base_uri": "https://localhost:8080/"
        },
        "id": "ubvcnxkYxVI3",
        "outputId": "a838fd35-1d91-4916-c0ad-4d0da4bc8d80"
      },
      "execution_count": 7,
      "outputs": [
        {
          "output_type": "stream",
          "name": "stdout",
          "text": [
            "   an  and  be  engineer  enjoy  i  lol  love  mathimatics  nlp  playing  ps,  \\\n",
            "0   0    0   0         0      0  1    0     1            0    1        0    0   \n",
            "1   1    0   1         1      0  1    0     0            0    1        0    0   \n",
            "2   0    0   0         0      1  1    0     0            1    0        0    0   \n",
            "3   0    1   0         0      0  0    1     0            0    0        1    1   \n",
            "\n",
            "   to  want  \n",
            "0   0     0  \n",
            "1   1     1  \n",
            "2   0     0  \n",
            "3   0     0  \n"
          ]
        }
      ]
    },
    {
      "cell_type": "markdown",
      "source": [
        "* Using high level ala built in -> function\n"
      ],
      "metadata": {
        "id": "a6P5vM8-xVhk"
      }
    },
    {
      "cell_type": "code",
      "source": [
        "from sklearn.feature_extraction.text import CountVectorizer\n",
        "\n",
        "documents = [\"I love NLP\", \"I want to be an NLP Engineer\", \"I enjoy mathimatics\", \"Playing PS, and LOL\"]\n",
        "\n",
        "vectoricer = CountVectorizer()\n",
        "\n",
        "bow_matrix1 = vectoricer.fit_transform(documents)\n",
        "\n",
        "print (vectoricer.get_feature_names_out())\n",
        "print(bow_matrix1.toarray())"
      ],
      "metadata": {
        "colab": {
          "base_uri": "https://localhost:8080/"
        },
        "id": "jjeGmwdPxV5V",
        "outputId": "a966458b-b6be-49d1-81e5-12faa628601f"
      },
      "execution_count": 10,
      "outputs": [
        {
          "output_type": "stream",
          "name": "stdout",
          "text": [
            "['an' 'and' 'be' 'engineer' 'enjoy' 'lol' 'love' 'mathimatics' 'nlp'\n",
            " 'playing' 'ps' 'to' 'want']\n",
            "[[0 0 0 0 0 0 1 0 1 0 0 0 0]\n",
            " [1 0 1 1 0 0 0 0 1 0 0 1 1]\n",
            " [0 0 0 0 1 0 0 1 0 0 0 0 0]\n",
            " [0 1 0 0 0 1 0 0 0 1 1 0 0]]\n"
          ]
        }
      ]
    },
    {
      "cell_type": "markdown",
      "source": [
        "# TF-IDF\n",
        "term freq - inverse doq freq"
      ],
      "metadata": {
        "id": "tnGpuM2y0-dj"
      }
    },
    {
      "cell_type": "markdown",
      "source": [
        "* Python row implentaition"
      ],
      "metadata": {
        "id": "xc0W_PXVFcJG"
      }
    },
    {
      "cell_type": "code",
      "source": [
        "import math\n",
        "from collections import Counter\n",
        "\n",
        "docoumnts = [\"I love NLP\", \"I want to be an NLP Engineer\", \"I enjoy mathimatics\", \"Playing PS, and LOL\"]\n",
        "vocabulary = set (word for doc in documents for word in doc.lower().split())\n",
        "\n",
        "vocabulary = sorted(vocabulary) #sorted unique word\n",
        "\n",
        "def compute_tf(sent): # calc each word in sent\n",
        "  word_count = Counter (sent.lower().split())\n",
        "  doc_lenght = len(sent.split())\n",
        "  return {word : word_count[word] / doc_lenght for word in vocabulary}\n",
        "\n",
        "def compute_idf(corpus): # calc each word in all sent\n",
        "  # count sent\n",
        "  doc_count = len(corpus)\n",
        "  # declare dict variable\n",
        "  idf = {}\n",
        "  # loop over words in vocab\n",
        "  for word in vocabulary:\n",
        "    containing_docs = sum(1 for doc in corpus if word in doc.lower().split())\n",
        "    idf[word] = math.log((doc_count) / (1 + containing_docs))\n",
        "  return idf\n",
        "    #sum word in each sent\n",
        "    # +1"
      ],
      "metadata": {
        "id": "Xa5MiJZy8ovd"
      },
      "execution_count": 21,
      "outputs": []
    },
    {
      "cell_type": "code",
      "source": [
        "tf = [compute_tf(doc) for doc in documents]\n",
        "idf = compute_idf(documents)"
      ],
      "metadata": {
        "id": "Hk-D7Q_UGYvS"
      },
      "execution_count": 22,
      "outputs": []
    },
    {
      "cell_type": "code",
      "source": [
        "tf_idf = []\n",
        "for i in tf :\n",
        "  tfidf_vector = [i[word] * idf[word] for word in vocabulary]\n",
        "  tf_idf.append(tfidf_vector)\n",
        "\n",
        "print (\"Vocab: \", vocabulary )\n",
        "print (\"TF-IDF: \", tf_idf)"
      ],
      "metadata": {
        "colab": {
          "base_uri": "https://localhost:8080/"
        },
        "id": "6HtpTRltGdIc",
        "outputId": "3b1f3e64-92c3-4b29-c128-1f8bc7841a43"
      },
      "execution_count": 23,
      "outputs": [
        {
          "output_type": "stream",
          "name": "stdout",
          "text": [
            "Vocab:  ['an', 'and', 'be', 'engineer', 'enjoy', 'i', 'lol', 'love', 'mathimatics', 'nlp', 'playing', 'ps,', 'to', 'want']\n",
            "TF-IDF:  [[0.0, 0.0, 0.0, 0.0, 0.0, 0.0, 0.0, 0.23104906018664842, 0.0, 0.09589402415059362, 0.0, 0.0, 0.0, 0.0], [0.09902102579427789, 0.0, 0.09902102579427789, 0.09902102579427789, 0.0, 0.0, 0.0, 0.0, 0.0, 0.04109743892168297, 0.0, 0.0, 0.09902102579427789, 0.09902102579427789], [0.0, 0.0, 0.0, 0.0, 0.23104906018664842, 0.0, 0.0, 0.0, 0.23104906018664842, 0.0, 0.0, 0.0, 0.0, 0.0], [0.0, 0.17328679513998632, 0.0, 0.0, 0.0, 0.0, 0.17328679513998632, 0.0, 0.0, 0.0, 0.17328679513998632, 0.17328679513998632, 0.0, 0.0]]\n"
          ]
        }
      ]
    },
    {
      "cell_type": "code",
      "source": [
        "print(len(vocabulary))\n",
        "print (len(tf_idf))"
      ],
      "metadata": {
        "colab": {
          "base_uri": "https://localhost:8080/"
        },
        "id": "v3ri2uldMOeL",
        "outputId": "854592b2-4451-432a-83f8-83a3c92e97ee"
      },
      "execution_count": 25,
      "outputs": [
        {
          "output_type": "stream",
          "name": "stdout",
          "text": [
            "14\n",
            "4\n"
          ]
        }
      ]
    },
    {
      "cell_type": "markdown",
      "source": [
        "* Using Pandas"
      ],
      "metadata": {
        "id": "KObfw-74OTge"
      }
    },
    {
      "cell_type": "code",
      "source": [
        "import pandas as pd\n",
        "\n",
        "import math\n",
        "from collections import Counter\n",
        "\n",
        "docoumnts = [\"I love NLP\", \"I want to be an NLP Engineer\", \"I enjoy mathimatics\", \"Playing PS, and LOL\"]\n",
        "vocabulary = set (word for doc in documents for word in doc.lower().split())\n",
        "\n",
        "vocabulary = sorted(vocabulary) #sorted unique word\n",
        "\n",
        "def compute_tf(sent): # calc each word in sent\n",
        "  word_counts = Counter (sent.lower().split())\n",
        "  total_words = len(word_counts.values())\n",
        "  return {word : word_counts.get(word, 0) / total_words for word in vocabulary}\n",
        "\n",
        "\n",
        "doc_count = len(documents)\n",
        "idf = {word: math.log(doc_count / (1 + sum(word in doc.lower().split() for doc in documents ))) for word in vocabulary}\n",
        "\n",
        "tf_idf_data = []\n",
        "\n",
        "for doc in documents:\n",
        "  tf = compute_tf(doc)\n",
        "  tf_idf_data.append({word: tf[word] * idf[word] for word in vocabulary})\n",
        "\n",
        "tf_idf_dataframe = pd.DataFrame(tf_idf_data, columns=vocabulary)\n",
        "\n",
        "print (tf_idf_dataframe)"
      ],
      "metadata": {
        "colab": {
          "base_uri": "https://localhost:8080/"
        },
        "id": "g2uSFbsvNx9w",
        "outputId": "738aa4ef-fbda-4884-f55a-f223a7756cf3"
      },
      "execution_count": 27,
      "outputs": [
        {
          "output_type": "stream",
          "name": "stdout",
          "text": [
            "         an       and        be  engineer     enjoy    i       lol      love  \\\n",
            "0  0.000000  0.000000  0.000000  0.000000  0.000000  0.0  0.000000  0.231049   \n",
            "1  0.099021  0.000000  0.099021  0.099021  0.000000  0.0  0.000000  0.000000   \n",
            "2  0.000000  0.000000  0.000000  0.000000  0.231049  0.0  0.000000  0.000000   \n",
            "3  0.000000  0.173287  0.000000  0.000000  0.000000  0.0  0.173287  0.000000   \n",
            "\n",
            "   mathimatics       nlp   playing       ps,        to      want  \n",
            "0     0.000000  0.095894  0.000000  0.000000  0.000000  0.000000  \n",
            "1     0.000000  0.041097  0.000000  0.000000  0.099021  0.099021  \n",
            "2     0.231049  0.000000  0.000000  0.000000  0.000000  0.000000  \n",
            "3     0.000000  0.000000  0.173287  0.173287  0.000000  0.000000  \n"
          ]
        }
      ]
    },
    {
      "cell_type": "code",
      "source": [],
      "metadata": {
        "id": "Gxn1QIZfOd8v"
      },
      "execution_count": null,
      "outputs": []
    },
    {
      "cell_type": "markdown",
      "source": [
        "* Using High level"
      ],
      "metadata": {
        "id": "dh54SuFbRtqB"
      }
    },
    {
      "cell_type": "code",
      "source": [
        "from sklearn.feature_extraction.text import TfidfVectorizer\n",
        "\n",
        "docoumnts = [\"I love NLP\", \"I want to be an NLP Engineer\", \"I enjoy mathimatics\", \"Playing PS, and LOL\"]\n",
        "\n",
        "vec = TfidfVectorizer()\n",
        "tf_idf_matrix = vec.fit_transform(docoumnts)"
      ],
      "metadata": {
        "id": "8VUoivGyRvkm"
      },
      "execution_count": 28,
      "outputs": []
    },
    {
      "cell_type": "code",
      "source": [
        "print (vec.get_feature_names_out())\n",
        "print (tf_idf_matrix.toarray())"
      ],
      "metadata": {
        "colab": {
          "base_uri": "https://localhost:8080/"
        },
        "id": "ox_LKMECSKVo",
        "outputId": "d14a0255-865b-41a8-9292-e657c1de3f54"
      },
      "execution_count": 29,
      "outputs": [
        {
          "output_type": "stream",
          "name": "stdout",
          "text": [
            "['an' 'and' 'be' 'engineer' 'enjoy' 'lol' 'love' 'mathimatics' 'nlp'\n",
            " 'playing' 'ps' 'to' 'want']\n",
            "[[0.         0.         0.         0.         0.         0.\n",
            "  0.78528828 0.         0.6191303  0.         0.         0.\n",
            "  0.        ]\n",
            " [0.42176478 0.         0.42176478 0.42176478 0.         0.\n",
            "  0.         0.         0.3325242  0.         0.         0.42176478\n",
            "  0.42176478]\n",
            " [0.         0.         0.         0.         0.70710678 0.\n",
            "  0.         0.70710678 0.         0.         0.         0.\n",
            "  0.        ]\n",
            " [0.         0.5        0.         0.         0.         0.5\n",
            "  0.         0.         0.         0.5        0.5        0.\n",
            "  0.        ]]\n"
          ]
        }
      ]
    },
    {
      "cell_type": "code",
      "source": [],
      "metadata": {
        "id": "JhSsf-46SZUj"
      },
      "execution_count": null,
      "outputs": []
    }
  ]
}